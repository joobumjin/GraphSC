{
 "cells": [
  {
   "cell_type": "code",
   "execution_count": 2,
   "id": "36024c72-6afd-429c-914e-0b6ed5a03b70",
   "metadata": {},
   "outputs": [],
   "source": [
    "import numpy as np\n",
    "import torch\n",
    "from torchinfo import summary"
   ]
  },
  {
   "cell_type": "code",
   "execution_count": 3,
   "id": "440167e4-7914-430f-8d03-6c28187a92f3",
   "metadata": {},
   "outputs": [],
   "source": [
    "input_size = (20, 3, 1024, 1024)"
   ]
  },
  {
   "cell_type": "code",
   "execution_count": 6,
   "id": "dd5d7839-cd6b-4589-9368-29cb175e6d7b",
   "metadata": {},
   "outputs": [
    {
     "data": {
      "text/plain": [
       "DNN_F_Torch(\n",
       "  (layers): Sequential(\n",
       "    (0): Conv2d(3, 32, kernel_size=(3, 3), stride=(1, 1), padding=same)\n",
       "    (1): SameMaxPool2d()\n",
       "    (2): Conv2d(32, 32, kernel_size=(3, 3), stride=(1, 1), padding=same)\n",
       "    (3): SameMaxPool2d()\n",
       "    (4): Conv2d(32, 64, kernel_size=(3, 3), stride=(1, 1), padding=same)\n",
       "    (5): SameMaxPool2d()\n",
       "    (6): InceptionLayer(\n",
       "      (oneConv): Conv2d(64, 32, kernel_size=(1, 1), stride=(1, 1))\n",
       "      (threeConv_1): Conv2d(64, 48, kernel_size=(1, 1), stride=(1, 1), padding=same)\n",
       "      (threeConv_2): Conv2d(48, 64, kernel_size=(3, 3), stride=(1, 1), padding=same)\n",
       "      (fiveConv_1): Conv2d(64, 8, kernel_size=(1, 1), stride=(1, 1), padding=same)\n",
       "      (fiveConv_2): Conv2d(8, 16, kernel_size=(5, 5), stride=(1, 1), padding=same)\n",
       "      (poolConv_1): SameMaxPool2d()\n",
       "      (poolConv_2): Conv2d(64, 16, kernel_size=(5, 5), stride=(1, 1), padding=same)\n",
       "      (batch_norm): BatchNorm2d(128, eps=1e-05, momentum=0.1, affine=True, track_running_stats=True)\n",
       "    )\n",
       "    (7): SameMaxPool2d()\n",
       "    (8): InceptionLayer(\n",
       "      (oneConv): Conv2d(128, 64, kernel_size=(1, 1), stride=(1, 1))\n",
       "      (threeConv_1): Conv2d(128, 96, kernel_size=(1, 1), stride=(1, 1), padding=same)\n",
       "      (threeConv_2): Conv2d(96, 128, kernel_size=(3, 3), stride=(1, 1), padding=same)\n",
       "      (fiveConv_1): Conv2d(128, 16, kernel_size=(1, 1), stride=(1, 1), padding=same)\n",
       "      (fiveConv_2): Conv2d(16, 32, kernel_size=(5, 5), stride=(1, 1), padding=same)\n",
       "      (poolConv_1): SameMaxPool2d()\n",
       "      (poolConv_2): Conv2d(128, 32, kernel_size=(5, 5), stride=(1, 1), padding=same)\n",
       "      (batch_norm): BatchNorm2d(256, eps=1e-05, momentum=0.1, affine=True, track_running_stats=True)\n",
       "    )\n",
       "    (9): SameMaxPool2d()\n",
       "    (10): InceptionLayer(\n",
       "      (oneConv): Conv2d(256, 192, kernel_size=(1, 1), stride=(1, 1))\n",
       "      (threeConv_1): Conv2d(256, 96, kernel_size=(1, 1), stride=(1, 1), padding=same)\n",
       "      (threeConv_2): Conv2d(96, 208, kernel_size=(3, 3), stride=(1, 1), padding=same)\n",
       "      (fiveConv_1): Conv2d(256, 16, kernel_size=(1, 1), stride=(1, 1), padding=same)\n",
       "      (fiveConv_2): Conv2d(16, 48, kernel_size=(5, 5), stride=(1, 1), padding=same)\n",
       "      (poolConv_1): SameMaxPool2d()\n",
       "      (poolConv_2): Conv2d(256, 64, kernel_size=(5, 5), stride=(1, 1), padding=same)\n",
       "      (batch_norm): BatchNorm2d(512, eps=1e-05, momentum=0.1, affine=True, track_running_stats=True)\n",
       "    )\n",
       "    (11): InceptionLayer(\n",
       "      (oneConv): Conv2d(512, 160, kernel_size=(1, 1), stride=(1, 1))\n",
       "      (threeConv_1): Conv2d(512, 112, kernel_size=(1, 1), stride=(1, 1), padding=same)\n",
       "      (threeConv_2): Conv2d(112, 224, kernel_size=(3, 3), stride=(1, 1), padding=same)\n",
       "      (fiveConv_1): Conv2d(512, 24, kernel_size=(1, 1), stride=(1, 1), padding=same)\n",
       "      (fiveConv_2): Conv2d(24, 64, kernel_size=(5, 5), stride=(1, 1), padding=same)\n",
       "      (poolConv_1): SameMaxPool2d()\n",
       "      (poolConv_2): Conv2d(512, 64, kernel_size=(5, 5), stride=(1, 1), padding=same)\n",
       "      (batch_norm): BatchNorm2d(512, eps=1e-05, momentum=0.1, affine=True, track_running_stats=True)\n",
       "    )\n",
       "    (12): InceptionLayer(\n",
       "      (oneConv): Conv2d(512, 160, kernel_size=(1, 1), stride=(1, 1))\n",
       "      (threeConv_1): Conv2d(512, 112, kernel_size=(1, 1), stride=(1, 1), padding=same)\n",
       "      (threeConv_2): Conv2d(112, 224, kernel_size=(3, 3), stride=(1, 1), padding=same)\n",
       "      (fiveConv_1): Conv2d(512, 24, kernel_size=(1, 1), stride=(1, 1), padding=same)\n",
       "      (fiveConv_2): Conv2d(24, 64, kernel_size=(5, 5), stride=(1, 1), padding=same)\n",
       "      (poolConv_1): SameMaxPool2d()\n",
       "      (poolConv_2): Conv2d(512, 64, kernel_size=(5, 5), stride=(1, 1), padding=same)\n",
       "      (batch_norm): BatchNorm2d(512, eps=1e-05, momentum=0.1, affine=True, track_running_stats=True)\n",
       "    )\n",
       "    (13): SameMaxPool2d()\n",
       "    (14): InceptionLayer(\n",
       "      (oneConv): Conv2d(512, 384, kernel_size=(1, 1), stride=(1, 1))\n",
       "      (threeConv_1): Conv2d(512, 192, kernel_size=(1, 1), stride=(1, 1), padding=same)\n",
       "      (threeConv_2): Conv2d(192, 384, kernel_size=(3, 3), stride=(1, 1), padding=same)\n",
       "      (fiveConv_1): Conv2d(512, 48, kernel_size=(1, 1), stride=(1, 1), padding=same)\n",
       "      (fiveConv_2): Conv2d(48, 128, kernel_size=(5, 5), stride=(1, 1), padding=same)\n",
       "      (poolConv_1): SameMaxPool2d()\n",
       "      (poolConv_2): Conv2d(512, 128, kernel_size=(5, 5), stride=(1, 1), padding=same)\n",
       "      (batch_norm): BatchNorm2d(1024, eps=1e-05, momentum=0.1, affine=True, track_running_stats=True)\n",
       "    )\n",
       "    (15): InceptionLayer(\n",
       "      (oneConv): Conv2d(1024, 384, kernel_size=(1, 1), stride=(1, 1))\n",
       "      (threeConv_1): Conv2d(1024, 192, kernel_size=(1, 1), stride=(1, 1), padding=same)\n",
       "      (threeConv_2): Conv2d(192, 384, kernel_size=(3, 3), stride=(1, 1), padding=same)\n",
       "      (fiveConv_1): Conv2d(1024, 48, kernel_size=(1, 1), stride=(1, 1), padding=same)\n",
       "      (fiveConv_2): Conv2d(48, 128, kernel_size=(5, 5), stride=(1, 1), padding=same)\n",
       "      (poolConv_1): SameMaxPool2d()\n",
       "      (poolConv_2): Conv2d(1024, 128, kernel_size=(5, 5), stride=(1, 1), padding=same)\n",
       "      (batch_norm): BatchNorm2d(1024, eps=1e-05, momentum=0.1, affine=True, track_running_stats=True)\n",
       "    )\n",
       "    (16): InceptionLayer(\n",
       "      (oneConv): Conv2d(1024, 384, kernel_size=(1, 1), stride=(1, 1))\n",
       "      (threeConv_1): Conv2d(1024, 192, kernel_size=(1, 1), stride=(1, 1), padding=same)\n",
       "      (threeConv_2): Conv2d(192, 384, kernel_size=(3, 3), stride=(1, 1), padding=same)\n",
       "      (fiveConv_1): Conv2d(1024, 48, kernel_size=(1, 1), stride=(1, 1), padding=same)\n",
       "      (fiveConv_2): Conv2d(48, 128, kernel_size=(5, 5), stride=(1, 1), padding=same)\n",
       "      (poolConv_1): SameMaxPool2d()\n",
       "      (poolConv_2): Conv2d(1024, 128, kernel_size=(5, 5), stride=(1, 1), padding=same)\n",
       "      (batch_norm): BatchNorm2d(1024, eps=1e-05, momentum=0.1, affine=True, track_running_stats=True)\n",
       "    )\n",
       "    (17): SameMaxPool2d()\n",
       "    (18): InceptionLayer(\n",
       "      (oneConv): Conv2d(1024, 384, kernel_size=(1, 1), stride=(1, 1))\n",
       "      (threeConv_1): Conv2d(1024, 192, kernel_size=(1, 1), stride=(1, 1), padding=same)\n",
       "      (threeConv_2): Conv2d(192, 384, kernel_size=(3, 3), stride=(1, 1), padding=same)\n",
       "      (fiveConv_1): Conv2d(1024, 48, kernel_size=(1, 1), stride=(1, 1), padding=same)\n",
       "      (fiveConv_2): Conv2d(48, 128, kernel_size=(5, 5), stride=(1, 1), padding=same)\n",
       "      (poolConv_1): SameMaxPool2d()\n",
       "      (poolConv_2): Conv2d(1024, 128, kernel_size=(5, 5), stride=(1, 1), padding=same)\n",
       "      (batch_norm): BatchNorm2d(1024, eps=1e-05, momentum=0.1, affine=True, track_running_stats=True)\n",
       "    )\n",
       "    (19): InceptionLayer(\n",
       "      (oneConv): Conv2d(1024, 384, kernel_size=(1, 1), stride=(1, 1))\n",
       "      (threeConv_1): Conv2d(1024, 192, kernel_size=(1, 1), stride=(1, 1), padding=same)\n",
       "      (threeConv_2): Conv2d(192, 384, kernel_size=(3, 3), stride=(1, 1), padding=same)\n",
       "      (fiveConv_1): Conv2d(1024, 48, kernel_size=(1, 1), stride=(1, 1), padding=same)\n",
       "      (fiveConv_2): Conv2d(48, 128, kernel_size=(5, 5), stride=(1, 1), padding=same)\n",
       "      (poolConv_1): SameMaxPool2d()\n",
       "      (poolConv_2): Conv2d(1024, 128, kernel_size=(5, 5), stride=(1, 1), padding=same)\n",
       "      (batch_norm): BatchNorm2d(1024, eps=1e-05, momentum=0.1, affine=True, track_running_stats=True)\n",
       "    )\n",
       "    (20): InceptionLayer(\n",
       "      (oneConv): Conv2d(1024, 384, kernel_size=(1, 1), stride=(1, 1))\n",
       "      (threeConv_1): Conv2d(1024, 192, kernel_size=(1, 1), stride=(1, 1), padding=same)\n",
       "      (threeConv_2): Conv2d(192, 384, kernel_size=(3, 3), stride=(1, 1), padding=same)\n",
       "      (fiveConv_1): Conv2d(1024, 48, kernel_size=(1, 1), stride=(1, 1), padding=same)\n",
       "      (fiveConv_2): Conv2d(48, 128, kernel_size=(5, 5), stride=(1, 1), padding=same)\n",
       "      (poolConv_1): SameMaxPool2d()\n",
       "      (poolConv_2): Conv2d(1024, 128, kernel_size=(5, 5), stride=(1, 1), padding=same)\n",
       "      (batch_norm): BatchNorm2d(1024, eps=1e-05, momentum=0.1, affine=True, track_running_stats=True)\n",
       "    )\n",
       "    (21): SameMaxPool2d()\n",
       "    (22): AvgPool2d(kernel_size=(4, 4), stride=(4, 4), padding=0)\n",
       "    (23): Conv2d(1024, 1, kernel_size=(1, 1), stride=(1, 1), padding=same)\n",
       "  )\n",
       ")"
      ]
     },
     "execution_count": 6,
     "metadata": {},
     "output_type": "execute_result"
    }
   ],
   "source": [
    "from GNN.src.dnn_f import DNN_F_Torch\n",
    "model = DNN_F_Torch(1)\n",
    "model"
   ]
  },
  {
   "cell_type": "code",
   "execution_count": 7,
   "id": "d17b5842",
   "metadata": {},
   "outputs": [
    {
     "data": {
      "text/plain": [
       "==========================================================================================\n",
       "Layer (type:depth-idx)                   Output Shape              Param #\n",
       "==========================================================================================\n",
       "DNN_F_Torch                              [20, 1]                   --\n",
       "├─Sequential: 1-1                        [20, 1, 1, 1]             --\n",
       "│    └─Conv2d: 2-1                       [20, 32, 1024, 1024]      896\n",
       "│    └─SameMaxPool2d: 2-2                [20, 32, 512, 512]        --\n",
       "│    └─Conv2d: 2-3                       [20, 32, 512, 512]        9,248\n",
       "│    └─SameMaxPool2d: 2-4                [20, 32, 256, 256]        --\n",
       "│    └─Conv2d: 2-5                       [20, 64, 256, 256]        18,496\n",
       "│    └─SameMaxPool2d: 2-6                [20, 64, 128, 128]        --\n",
       "│    └─InceptionLayer: 2-7               [20, 128, 128, 128]       --\n",
       "│    │    └─Conv2d: 3-1                  [20, 32, 128, 128]        2,080\n",
       "│    │    └─Conv2d: 3-2                  [20, 48, 128, 128]        3,120\n",
       "│    │    └─Conv2d: 3-3                  [20, 64, 128, 128]        27,712\n",
       "│    │    └─Conv2d: 3-4                  [20, 8, 128, 128]         520\n",
       "│    │    └─Conv2d: 3-5                  [20, 16, 128, 128]        3,216\n",
       "│    │    └─SameMaxPool2d: 3-6           [20, 64, 128, 128]        --\n",
       "│    │    └─Conv2d: 3-7                  [20, 16, 128, 128]        25,616\n",
       "│    │    └─BatchNorm2d: 3-8             [20, 128, 128, 128]       256\n",
       "│    └─SameMaxPool2d: 2-8                [20, 128, 64, 64]         --\n",
       "│    └─InceptionLayer: 2-9               [20, 256, 64, 64]         --\n",
       "│    │    └─Conv2d: 3-9                  [20, 64, 64, 64]          8,256\n",
       "│    │    └─Conv2d: 3-10                 [20, 96, 64, 64]          12,384\n",
       "│    │    └─Conv2d: 3-11                 [20, 128, 64, 64]         110,720\n",
       "│    │    └─Conv2d: 3-12                 [20, 16, 64, 64]          2,064\n",
       "│    │    └─Conv2d: 3-13                 [20, 32, 64, 64]          12,832\n",
       "│    │    └─SameMaxPool2d: 3-14          [20, 128, 64, 64]         --\n",
       "│    │    └─Conv2d: 3-15                 [20, 32, 64, 64]          102,432\n",
       "│    │    └─BatchNorm2d: 3-16            [20, 256, 64, 64]         512\n",
       "│    └─SameMaxPool2d: 2-10               [20, 256, 32, 32]         --\n",
       "│    └─InceptionLayer: 2-11              [20, 512, 32, 32]         --\n",
       "│    │    └─Conv2d: 3-17                 [20, 192, 32, 32]         49,344\n",
       "│    │    └─Conv2d: 3-18                 [20, 96, 32, 32]          24,672\n",
       "│    │    └─Conv2d: 3-19                 [20, 208, 32, 32]         179,920\n",
       "│    │    └─Conv2d: 3-20                 [20, 16, 32, 32]          4,112\n",
       "│    │    └─Conv2d: 3-21                 [20, 48, 32, 32]          19,248\n",
       "│    │    └─SameMaxPool2d: 3-22          [20, 256, 32, 32]         --\n",
       "│    │    └─Conv2d: 3-23                 [20, 64, 32, 32]          409,664\n",
       "│    │    └─BatchNorm2d: 3-24            [20, 512, 32, 32]         1,024\n",
       "│    └─InceptionLayer: 2-12              [20, 512, 32, 32]         --\n",
       "│    │    └─Conv2d: 3-25                 [20, 160, 32, 32]         82,080\n",
       "│    │    └─Conv2d: 3-26                 [20, 112, 32, 32]         57,456\n",
       "│    │    └─Conv2d: 3-27                 [20, 224, 32, 32]         226,016\n",
       "│    │    └─Conv2d: 3-28                 [20, 24, 32, 32]          12,312\n",
       "│    │    └─Conv2d: 3-29                 [20, 64, 32, 32]          38,464\n",
       "│    │    └─SameMaxPool2d: 3-30          [20, 512, 32, 32]         --\n",
       "│    │    └─Conv2d: 3-31                 [20, 64, 32, 32]          819,264\n",
       "│    │    └─BatchNorm2d: 3-32            [20, 512, 32, 32]         1,024\n",
       "│    └─InceptionLayer: 2-13              [20, 512, 32, 32]         --\n",
       "│    │    └─Conv2d: 3-33                 [20, 160, 32, 32]         82,080\n",
       "│    │    └─Conv2d: 3-34                 [20, 112, 32, 32]         57,456\n",
       "│    │    └─Conv2d: 3-35                 [20, 224, 32, 32]         226,016\n",
       "│    │    └─Conv2d: 3-36                 [20, 24, 32, 32]          12,312\n",
       "│    │    └─Conv2d: 3-37                 [20, 64, 32, 32]          38,464\n",
       "│    │    └─SameMaxPool2d: 3-38          [20, 512, 32, 32]         --\n",
       "│    │    └─Conv2d: 3-39                 [20, 64, 32, 32]          819,264\n",
       "│    │    └─BatchNorm2d: 3-40            [20, 512, 32, 32]         1,024\n",
       "│    └─SameMaxPool2d: 2-14               [20, 512, 16, 16]         --\n",
       "│    └─InceptionLayer: 2-15              [20, 1024, 16, 16]        --\n",
       "│    │    └─Conv2d: 3-41                 [20, 384, 16, 16]         196,992\n",
       "│    │    └─Conv2d: 3-42                 [20, 192, 16, 16]         98,496\n",
       "│    │    └─Conv2d: 3-43                 [20, 384, 16, 16]         663,936\n",
       "│    │    └─Conv2d: 3-44                 [20, 48, 16, 16]          24,624\n",
       "│    │    └─Conv2d: 3-45                 [20, 128, 16, 16]         153,728\n",
       "│    │    └─SameMaxPool2d: 3-46          [20, 512, 16, 16]         --\n",
       "│    │    └─Conv2d: 3-47                 [20, 128, 16, 16]         1,638,528\n",
       "│    │    └─BatchNorm2d: 3-48            [20, 1024, 16, 16]        2,048\n",
       "│    └─InceptionLayer: 2-16              [20, 1024, 16, 16]        --\n",
       "│    │    └─Conv2d: 3-49                 [20, 384, 16, 16]         393,600\n",
       "│    │    └─Conv2d: 3-50                 [20, 192, 16, 16]         196,800\n",
       "│    │    └─Conv2d: 3-51                 [20, 384, 16, 16]         663,936\n",
       "│    │    └─Conv2d: 3-52                 [20, 48, 16, 16]          49,200\n",
       "│    │    └─Conv2d: 3-53                 [20, 128, 16, 16]         153,728\n",
       "│    │    └─SameMaxPool2d: 3-54          [20, 1024, 16, 16]        --\n",
       "│    │    └─Conv2d: 3-55                 [20, 128, 16, 16]         3,276,928\n",
       "│    │    └─BatchNorm2d: 3-56            [20, 1024, 16, 16]        2,048\n",
       "│    └─InceptionLayer: 2-17              [20, 1024, 16, 16]        --\n",
       "│    │    └─Conv2d: 3-57                 [20, 384, 16, 16]         393,600\n",
       "│    │    └─Conv2d: 3-58                 [20, 192, 16, 16]         196,800\n",
       "│    │    └─Conv2d: 3-59                 [20, 384, 16, 16]         663,936\n",
       "│    │    └─Conv2d: 3-60                 [20, 48, 16, 16]          49,200\n",
       "│    │    └─Conv2d: 3-61                 [20, 128, 16, 16]         153,728\n",
       "│    │    └─SameMaxPool2d: 3-62          [20, 1024, 16, 16]        --\n",
       "│    │    └─Conv2d: 3-63                 [20, 128, 16, 16]         3,276,928\n",
       "│    │    └─BatchNorm2d: 3-64            [20, 1024, 16, 16]        2,048\n",
       "│    └─SameMaxPool2d: 2-18               [20, 1024, 8, 8]          --\n",
       "│    └─InceptionLayer: 2-19              [20, 1024, 8, 8]          --\n",
       "│    │    └─Conv2d: 3-65                 [20, 384, 8, 8]           393,600\n",
       "│    │    └─Conv2d: 3-66                 [20, 192, 8, 8]           196,800\n",
       "│    │    └─Conv2d: 3-67                 [20, 384, 8, 8]           663,936\n",
       "│    │    └─Conv2d: 3-68                 [20, 48, 8, 8]            49,200\n",
       "│    │    └─Conv2d: 3-69                 [20, 128, 8, 8]           153,728\n",
       "│    │    └─SameMaxPool2d: 3-70          [20, 1024, 8, 8]          --\n",
       "│    │    └─Conv2d: 3-71                 [20, 128, 8, 8]           3,276,928\n",
       "│    │    └─BatchNorm2d: 3-72            [20, 1024, 8, 8]          2,048\n",
       "│    └─InceptionLayer: 2-20              [20, 1024, 8, 8]          --\n",
       "│    │    └─Conv2d: 3-73                 [20, 384, 8, 8]           393,600\n",
       "│    │    └─Conv2d: 3-74                 [20, 192, 8, 8]           196,800\n",
       "│    │    └─Conv2d: 3-75                 [20, 384, 8, 8]           663,936\n",
       "│    │    └─Conv2d: 3-76                 [20, 48, 8, 8]            49,200\n",
       "│    │    └─Conv2d: 3-77                 [20, 128, 8, 8]           153,728\n",
       "│    │    └─SameMaxPool2d: 3-78          [20, 1024, 8, 8]          --\n",
       "│    │    └─Conv2d: 3-79                 [20, 128, 8, 8]           3,276,928\n",
       "│    │    └─BatchNorm2d: 3-80            [20, 1024, 8, 8]          2,048\n",
       "│    └─InceptionLayer: 2-21              [20, 1024, 8, 8]          --\n",
       "│    │    └─Conv2d: 3-81                 [20, 384, 8, 8]           393,600\n",
       "│    │    └─Conv2d: 3-82                 [20, 192, 8, 8]           196,800\n",
       "│    │    └─Conv2d: 3-83                 [20, 384, 8, 8]           663,936\n",
       "│    │    └─Conv2d: 3-84                 [20, 48, 8, 8]            49,200\n",
       "│    │    └─Conv2d: 3-85                 [20, 128, 8, 8]           153,728\n",
       "│    │    └─SameMaxPool2d: 3-86          [20, 1024, 8, 8]          --\n",
       "│    │    └─Conv2d: 3-87                 [20, 128, 8, 8]           3,276,928\n",
       "│    │    └─BatchNorm2d: 3-88            [20, 1024, 8, 8]          2,048\n",
       "│    └─SameMaxPool2d: 2-22               [20, 1024, 4, 4]          --\n",
       "│    └─AvgPool2d: 2-23                   [20, 1024, 1, 1]          --\n",
       "│    └─Conv2d: 2-24                      [20, 1, 1, 1]             1,025\n",
       "==========================================================================================\n",
       "Total params: 29,962,153\n",
       "Trainable params: 29,962,153\n",
       "Non-trainable params: 0\n",
       "Total mult-adds (Units.GIGABYTES): 277.85\n",
       "==========================================================================================\n",
       "Input size (MB): 251.66\n",
       "Forward/backward pass size (MB): 9526.48\n",
       "Params size (MB): 119.85\n",
       "Estimated Total Size (MB): 9897.98\n",
       "=========================================================================================="
      ]
     },
     "execution_count": 7,
     "metadata": {},
     "output_type": "execute_result"
    }
   ],
   "source": [
    "summary(model, input_size)"
   ]
  },
  {
   "cell_type": "code",
   "execution_count": 5,
   "id": "03c2e2b6-0105-41cd-888b-83751965b48f",
   "metadata": {
    "scrolled": true
   },
   "outputs": [
    {
     "data": {
      "text/plain": [
       "torch.Size([5])"
      ]
     },
     "execution_count": 5,
     "metadata": {},
     "output_type": "execute_result"
    }
   ],
   "source": [
    "model(image).shape"
   ]
  },
  {
   "cell_type": "code",
   "execution_count": 11,
   "id": "3ab13746-5645-412f-b947-92b6f6564a0e",
   "metadata": {},
   "outputs": [
    {
     "name": "stdout",
     "output_type": "stream",
     "text": [
      "Test_Both.pkl             Test_VEGF.pkl             Train_VEGF_normalized.pkl\n",
      "Test_Both_normalized.pkl  Test_VEGF_normalized.pkl  Valid_Both_normalized.pkl\n",
      "Test_TER.pkl              Train_Both_normalized.pkl Valid_TER_normalized.pkl\n",
      "Test_TER_normalized.pkl   Train_TER_normalized.pkl  Valid_VEGF_normalized.pkl\n"
     ]
    }
   ],
   "source": [
    "!ls \"../Data/FinalSplits/\""
   ]
  },
  {
   "cell_type": "code",
   "execution_count": 9,
   "id": "48f4b727-ca65-4c79-8705-aadc10c207c4",
   "metadata": {},
   "outputs": [],
   "source": [
    "import argparse\n",
    "from tqdm import tqdm\n",
    "\n",
    "import math\n",
    "import os\n",
    "from pathlib import Path\n",
    "\n",
    "import pandas as pd\n",
    "import numpy as np\n",
    "import pickle\n",
    "import torch\n",
    "from torch_geometric.data import Data\n",
    "from torch_geometric.loader import DataLoader\n",
    "\n",
    "def check_for_nan(dataset):\n",
    "    for i, data in enumerate(dataset):\n",
    "        if torch.isnan(data.x).any():\n",
    "            print(f\"NaN found in features at index {i}\")\n",
    "        if torch.isnan(data.y).any():\n",
    "            print(f\"NaN found in target at index {i}\")\n",
    "\n",
    "def load_dataset_from_pickle(pickle_file):\n",
    "    with open(pickle_file, 'rb') as f:\n",
    "        dataset = pickle.load(f)\n",
    "    if isinstance(dataset, list) and all(isinstance(d, Data) for d in dataset):\n",
    "        return dataset\n",
    "    else:\n",
    "        raise ValueError(\"The loaded dataset is not a list of Data objects).\")\n",
    "\n",
    "def get_loaders(data_dirs, target, batch_size, print_data_stats = True, print_detailed = False):\n",
    "    train_pickle_file = data_dirs[f\"Train_{target}\"]\n",
    "    val_pickle_file = data_dirs[f\"Valid_{target}\"]\n",
    "    test_pickle_file = data_dirs[f\"Test_{target}\"]\n",
    "\n",
    "    # train_dataset = load_dataset_from_pickle(train_pickle_file)\n",
    "    # val_dataset = load_dataset_from_pickle(val_pickle_file)\n",
    "    test_dataset = load_dataset_from_pickle(test_pickle_file)\n",
    "\n",
    "    # check_for_nan(train_dataset)\n",
    "    # check_for_nan(val_dataset)\n",
    "    check_for_nan(test_dataset)\n",
    "\n",
    "    num_features = test_dataset[0].x.shape[1]  # Number of features per node\n",
    "    num_targets = test_dataset[0].y.shape[0]\n",
    "\n",
    "    detail_list = [num_features, num_targets]\n",
    "\n",
    "    # train_loader = DataLoader(train_dataset, batch_size=batch_size, shuffle=True)\n",
    "    # val_loader = DataLoader(val_dataset, batch_size=batch_size, shuffle=False)\n",
    "    test_loader = DataLoader(test_dataset, batch_size=batch_size, shuffle=False)\n",
    "\n",
    "    return test_loader, detail_list"
   ]
  },
  {
   "cell_type": "code",
   "execution_count": 10,
   "id": "b244b4d2-e73b-4ab1-9d1f-5efff4dda0a4",
   "metadata": {},
   "outputs": [
    {
     "name": "stderr",
     "output_type": "stream",
     "text": [
      "/opt/homebrew/Caskroom/miniforge/base/envs/qbam_gnn/lib/python3.12/site-packages/torch/storage.py:414: FutureWarning: You are using `torch.load` with `weights_only=False` (the current default value), which uses the default pickle module implicitly. It is possible to construct malicious pickle data which will execute arbitrary code during unpickling (See https://github.com/pytorch/pytorch/blob/main/SECURITY.md#untrusted-models for more details). In a future release, the default value for `weights_only` will be flipped to `True`. This limits the functions that could be executed during unpickling. Arbitrary objects will no longer be allowed to be loaded via this mode unless they are explicitly allowlisted by the user via `torch.serialization.add_safe_globals`. We recommend you start setting `weights_only=True` for any use case where you don't have full control of the loaded file. Please open an issue on GitHub for any issues related to this experimental feature.\n",
      "  return torch.load(io.BytesIO(b))\n"
     ]
    }
   ],
   "source": [
    "data=\"../Data/FinalSplits\"\n",
    "norm_string=\"\"\n",
    "target=\"TER\"\n",
    "data_dirs = {}\n",
    "for data_type in ['TER', 'VEGF', 'Both']:\n",
    "    data_dirs[f\"Train_{data_type}\"] = f\"{data}/Train_{data_type}{norm_string}.pkl\"\n",
    "    data_dirs[f\"Valid_{data_type}\"] = f\"{data}/Valid_{data_type}{norm_string}.pkl\"\n",
    "    data_dirs[f\"Test_{data_type}\"] = f\"{data}/Test_{data_type}{norm_string}.pkl\"\n",
    "\n",
    "test_loader, data_details = get_loaders(data_dirs, target, 64)"
   ]
  },
  {
   "cell_type": "code",
   "execution_count": 11,
   "id": "c8bfb938-7667-46e1-a028-6cdf547484bb",
   "metadata": {},
   "outputs": [
    {
     "data": {
      "text/plain": [
       "GCN_G4_D4(\n",
       "  (conv1): GATv2Conv(77, 128, heads=8)\n",
       "  (norm1): BatchNorm(1024)\n",
       "  (conv2): GATv2Conv(1024, 128, heads=8)\n",
       "  (norm2): BatchNorm(1024)\n",
       "  (conv3): GATv2Conv(1024, 128, heads=8)\n",
       "  (norm3): BatchNorm(1024)\n",
       "  (conv4): GATv2Conv(1024, 1, heads=1)\n",
       "  (norm4): BatchNorm(1)\n",
       "  (dropout): Dropout(p=0.5, inplace=False)\n",
       "  (linear1): Linear(in_features=1, out_features=128, bias=True)\n",
       "  (linear2): Linear(in_features=128, out_features=128, bias=True)\n",
       "  (linear3): Linear(in_features=128, out_features=128, bias=True)\n",
       "  (linear4): Linear(in_features=128, out_features=1, bias=True)\n",
       ")"
      ]
     },
     "execution_count": 11,
     "metadata": {},
     "output_type": "execute_result"
    }
   ],
   "source": [
    "import GNN.src.gnn_multiple as GCNs\n",
    "model_constructors = {\n",
    "    \"G2_D2\": GCNs.GCN_G2_D2,\n",
    "    \"G2_D3\": GCNs.GCN_G2_D3,\n",
    "    \"G2_D4\": GCNs.GCN_G2_D4,\n",
    "    \"G2_D5\": GCNs.GCN_G2_D5,\n",
    "    \"G3_D2\": GCNs.GCN_G3_D2,\n",
    "    \"G3_D3\": GCNs.GCN_G3_D3,\n",
    "    \"G3_D4\": GCNs.GCN_G3_D4,\n",
    "    \"G3_D5\": GCNs.GCN_G3_D5,\n",
    "    \"G4_D2\": GCNs.GCN_G4_D2,\n",
    "    \"G4_D3\": GCNs.GCN_G4_D3,\n",
    "    \"G4_D4\": GCNs.GCN_G4_D4,\n",
    "    \"G4_D5\": GCNs.GCN_G4_D5,\n",
    "    \"G5_D2\": GCNs.GCN_G5_D2,\n",
    "    \"G5_D3\": GCNs.GCN_G5_D3,\n",
    "    \"G5_D4\": GCNs.GCN_G5_D4,\n",
    "    \"G5_D5\": GCNs.GCN_G5_D5\n",
    "}\n",
    "\n",
    "model_class = model_constructors[\"G4_D4\"]\n",
    "standard_model = model_class(*data_details)\n",
    "standard_model"
   ]
  },
  {
   "cell_type": "code",
   "execution_count": 13,
   "id": "689a3162",
   "metadata": {},
   "outputs": [
    {
     "data": {
      "text/plain": [
       "4408968"
      ]
     },
     "execution_count": 13,
     "metadata": {},
     "output_type": "execute_result"
    }
   ],
   "source": [
    "sum(p.numel() for p in standard_model.parameters())"
   ]
  },
  {
   "cell_type": "code",
   "execution_count": 25,
   "id": "3885881a-c2ad-4318-aa91-107a0ca60086",
   "metadata": {},
   "outputs": [
    {
     "data": {
      "text/plain": [
       "Modular_GCN(\n",
       "  (gats): ModuleList(\n",
       "    (0): GATv2Conv(77, 128, heads=8)\n",
       "    (1): GATv2Conv(1024, 128, heads=8)\n",
       "    (2): GATv2Conv(1024, 1, heads=1)\n",
       "  )\n",
       "  (b_norms): ModuleList(\n",
       "    (0-1): 2 x BatchNorm(1024)\n",
       "    (2): BatchNorm(1)\n",
       "  )\n",
       "  (dropout): Dropout(p=0.5, inplace=False)\n",
       "  (dense_head): ModuleList(\n",
       "    (0): Linear(in_features=1, out_features=128, bias=True)\n",
       "    (1): Linear(in_features=128, out_features=1, bias=True)\n",
       "  )\n",
       ")"
      ]
     },
     "execution_count": 25,
     "metadata": {},
     "output_type": "execute_result"
    }
   ],
   "source": [
    "from GNN.src.gnn_modular import Modular_GCN\n",
    "modular_gcn = Modular_GCN(*data_details)\n",
    "modular_gcn"
   ]
  },
  {
   "cell_type": "code",
   "execution_count": null,
   "id": "f656093c-f7ec-4ea1-b2bc-157ff5752fc6",
   "metadata": {},
   "outputs": [],
   "source": []
  }
 ],
 "metadata": {
  "kernelspec": {
   "display_name": "qbam_gnn",
   "language": "python",
   "name": "python3"
  },
  "language_info": {
   "codemirror_mode": {
    "name": "ipython",
    "version": 3
   },
   "file_extension": ".py",
   "mimetype": "text/x-python",
   "name": "python",
   "nbconvert_exporter": "python",
   "pygments_lexer": "ipython3",
   "version": "3.12.5"
  }
 },
 "nbformat": 4,
 "nbformat_minor": 5
}
