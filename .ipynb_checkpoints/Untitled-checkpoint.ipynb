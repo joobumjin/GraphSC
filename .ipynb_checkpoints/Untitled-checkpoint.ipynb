{
 "cells": [
  {
   "cell_type": "code",
   "execution_count": 1,
   "id": "eb26a750-242c-41a7-96e4-b48c06d76b04",
   "metadata": {},
   "outputs": [],
   "source": [
    "import numpy as np\n",
    "import pandas as pd"
   ]
  },
  {
   "cell_type": "code",
   "execution_count": null,
   "id": "1c37fc61-4193-46ef-b7cc-b2f5cb25e45a",
   "metadata": {},
   "outputs": [],
   "source": [
    "df_filepath = f\"asdf_stats.xlsx\"\n",
    "with pd.ExcelWriter(df_filepath) as writer:\n",
    "    for data, split in zip([train_data, val_data, test_data], [\"Train\", \"Val\", \"Test\"]):\n",
    "        df = pd.DataFrame(data)\n",
    "        df.to_excel(writer, sheet_name=split)"
   ]
  }
 ],
 "metadata": {
  "kernelspec": {
   "display_name": "QBAM GNN",
   "language": "python",
   "name": "qbam_gnn"
  },
  "language_info": {
   "codemirror_mode": {
    "name": "ipython",
    "version": 3
   },
   "file_extension": ".py",
   "mimetype": "text/x-python",
   "name": "python",
   "nbconvert_exporter": "python",
   "pygments_lexer": "ipython3",
   "version": "3.12.5"
  }
 },
 "nbformat": 4,
 "nbformat_minor": 5
}
