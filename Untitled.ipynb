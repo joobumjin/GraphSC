{
 "cells": [
  {
   "cell_type": "code",
   "execution_count": 3,
   "id": "eb26a750-242c-41a7-96e4-b48c06d76b04",
   "metadata": {},
   "outputs": [],
   "source": [
    "import numpy as np\n",
    "import pandas as pd"
   ]
  },
  {
   "cell_type": "code",
   "execution_count": 4,
   "id": "1c37fc61-4193-46ef-b7cc-b2f5cb25e45a",
   "metadata": {},
   "outputs": [],
   "source": [
    "lr_epoch = [(0.0005, 150), (0.00075, 150), (0.001, 50), (0.0025, 50), (0.005, 50)]\n",
    "\n",
    "train_data = {\"Learning Rate\": [lr for lr, _ in lr_epoch]}\n",
    "val_data = {\"Learning Rate\": [lr for lr, _ in lr_epoch]}\n",
    "test_data = {\"Learning Rate\": [lr for lr, _ in lr_epoch]}\n",
    "\n",
    "train_data[\"G2_D2\"] = range(len(lr_epoch))\n",
    "val_data[\"G2_D2\"] = range(len(lr_epoch))\n",
    "test_data[\"G2_D2\"] = range(len(lr_epoch))\n",
    "\n",
    "df_filepath = f\"asdf_stats.xlsx\"\n",
    "with pd.ExcelWriter(df_filepath) as writer:\n",
    "    for data, split in zip([train_data, val_data, test_data], [\"Train\", \"Val\", \"Test\"]):\n",
    "        df = pd.DataFrame(data)\n",
    "        df.to_excel(writer, sheet_name=split)"
   ]
  },
  {
   "cell_type": "code",
   "execution_count": null,
   "id": "ca08f611-80fb-4ae6-9592-822ca7c28cd2",
   "metadata": {},
   "outputs": [],
   "source": []
  }
 ],
 "metadata": {
  "kernelspec": {
   "display_name": "QBAM GNN",
   "language": "python",
   "name": "qbam_gnn"
  },
  "language_info": {
   "codemirror_mode": {
    "name": "ipython",
    "version": 3
   },
   "file_extension": ".py",
   "mimetype": "text/x-python",
   "name": "python",
   "nbconvert_exporter": "python",
   "pygments_lexer": "ipython3",
   "version": "3.12.5"
  }
 },
 "nbformat": 4,
 "nbformat_minor": 5
}
